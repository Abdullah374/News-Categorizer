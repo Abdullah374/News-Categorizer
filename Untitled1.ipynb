{
 "cells": [
  {
   "cell_type": "code",
   "execution_count": 1,
   "id": "b5ec7864-af8f-4386-84f0-3f37706619a1",
   "metadata": {},
   "outputs": [],
   "source": [
    "import pandas as pd\n",
    "from sklearn.feature_extraction.text import TfidfVectorizer\n",
    "from sklearn.model_selection import train_test_split\n",
    "import nltk\n",
    "from nltk.corpus import stopwords\n",
    "from nltk.stem import WordNetLemmatizer\n",
    "import re\n",
    "import pickle\n",
    "from sklearn.naive_bayes import MultinomialNB\n",
    "\n",
    "from sklearn.metrics import classification_report, accuracy_score"
   ]
  },
  {
   "cell_type": "code",
   "execution_count": 12,
   "id": "aede7887-4bb8-42f5-a7ad-c7cfe0341422",
   "metadata": {},
   "outputs": [],
   "source": [
    "df = pd.read_csv('cleaned_data1.csv')"
   ]
  },
  {
   "cell_type": "code",
   "execution_count": 3,
   "id": "8ad16178-d779-491d-b610-f6f1929162a9",
   "metadata": {},
   "outputs": [],
   "source": [
    "lemmatizer = WordNetLemmatizer()\n",
    "stop_words = set(stopwords.words('english'))\n",
    "\n",
    "def preprocess(text):\n",
    "    text = text.lower()\n",
    "    text = re.sub(r'[^a-zA-Z\\s]', '', text)\n",
    "    tokens = text.split()\n",
    "    tokens = [t for t in tokens if t not in stop_words]\n",
    "    tokens = [lemmatizer.lemmatize(t) for t in tokens]\n",
    "    return ' '.join(tokens)"
   ]
  },
  {
   "cell_type": "code",
   "execution_count": 14,
   "id": "ff403895-7761-45d6-bba5-7ed743fad0f0",
   "metadata": {},
   "outputs": [],
   "source": [
    "df = df.dropna()"
   ]
  },
  {
   "cell_type": "code",
   "execution_count": 15,
   "id": "72834ab3-b720-4590-8ff3-23ff430d67f6",
   "metadata": {},
   "outputs": [
    {
     "data": {
      "text/plain": [
       "949070"
      ]
     },
     "execution_count": 15,
     "metadata": {},
     "output_type": "execute_result"
    }
   ],
   "source": [
    "df.size"
   ]
  },
  {
   "cell_type": "code",
   "execution_count": 16,
   "id": "645a4c7b-1665-4d9b-9f82-be90df182013",
   "metadata": {},
   "outputs": [],
   "source": [
    "X = df['text_clean']\n",
    "y = df['category']"
   ]
  },
  {
   "cell_type": "code",
   "execution_count": null,
   "id": "24549fd7-d211-43a7-88df-3b98bf5cbccb",
   "metadata": {},
   "outputs": [
    {
     "name": "stdout",
     "output_type": "stream",
     "text": [
      "Accuracy: 0.5357321602613071\n",
      "Accuracy: 0.5357321602613071\n",
      "Accuracy: 0.5357321602613071\n",
      "Accuracy: 0.5357321602613071\n"
     ]
    }
   ],
   "source": [
    "best = 0\n",
    "for _ in range(10):\n",
    "    X_train, X_test, y_train, y_test = train_test_split(X, y, test_size=0.2, random_state=42)\n",
    "    vectorizer = TfidfVectorizer(max_features=5000, ngram_range=(1,2))\n",
    "    X_train_tfidf = vectorizer.fit_transform(X_train)\n",
    "    X_test_tfidf = vectorizer.transform(X_test)\n",
    "\n",
    "    clf = MultinomialNB()\n",
    "    clf.fit(X_train_tfidf, y_train)\n",
    "    y_pred = clf.predict(X_test_tfidf)\n",
    "\n",
    "\n",
    "    acc = accuracy_score(y_test, y_pred)\n",
    "    print(\"Accuracy:\", acc)\n",
    "    if acc > best:\n",
    "        best = acc\n",
    "        with open(\"news.pickle\", \"wb\") as f:\n",
    "            pickle.dump((clf,vectorizer), f)"
   ]
  },
  {
   "cell_type": "code",
   "execution_count": 4,
   "id": "f88467f7-8d1a-4df3-b829-a306688478be",
   "metadata": {},
   "outputs": [
    {
     "name": "stdout",
     "output_type": "stream",
     "text": [
      "Predicted category: POLITICS\n"
     ]
    }
   ],
   "source": [
    "with open(\"news.pickle\", \"rb\") as f:\n",
    "    logistic, vectorizer = pickle.load(f)\n",
    "\n",
    "new_text = \"Charlie kirk shot\"\n",
    "new_text_clean = preprocess(new_text)   \n",
    "new_text_vector = vectorizer.transform([new_text_clean])\n",
    "prediction = logistic.predict(new_text_vector)\n",
    "\n",
    "print(\"Predicted category:\", prediction[0])\n"
   ]
  },
  {
   "cell_type": "code",
   "execution_count": null,
   "id": "529609a4-d22c-465c-a5c7-23a0ac5ded0c",
   "metadata": {},
   "outputs": [],
   "source": []
  }
 ],
 "metadata": {
  "kernelspec": {
   "display_name": "Python (spaCy)",
   "language": "python",
   "name": "spacy_env"
  },
  "language_info": {
   "codemirror_mode": {
    "name": "ipython",
    "version": 3
   },
   "file_extension": ".py",
   "mimetype": "text/x-python",
   "name": "python",
   "nbconvert_exporter": "python",
   "pygments_lexer": "ipython3",
   "version": "3.11.13"
  }
 },
 "nbformat": 4,
 "nbformat_minor": 5
}
